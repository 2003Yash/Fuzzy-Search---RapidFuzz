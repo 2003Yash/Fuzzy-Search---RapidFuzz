{
  "nbformat": 4,
  "nbformat_minor": 0,
  "metadata": {
    "colab": {
      "provenance": [],
      "authorship_tag": "ABX9TyNYw0aV/b+6FQ3u7RC6RjFM",
      "include_colab_link": true
    },
    "kernelspec": {
      "name": "python3",
      "display_name": "Python 3"
    },
    "language_info": {
      "name": "python"
    }
  },
  "cells": [
    {
      "cell_type": "markdown",
      "metadata": {
        "id": "view-in-github",
        "colab_type": "text"
      },
      "source": [
        "<a href=\"https://colab.research.google.com/github/2003Yash/Fuzzy-Search---RapidFuzz/blob/main/Fuzzy_Search_RapidFuzz.ipynb\" target=\"_parent\"><img src=\"https://colab.research.google.com/assets/colab-badge.svg\" alt=\"Open In Colab\"/></a>"
      ]
    },
    {
      "cell_type": "code",
      "source": [
        "!pip install rapidfuzz"
      ],
      "metadata": {
        "colab": {
          "base_uri": "https://localhost:8080/"
        },
        "id": "uf-zayH7U03i",
        "outputId": "88e8fd90-ef07-4528-876a-e48411bd437c"
      },
      "execution_count": 2,
      "outputs": [
        {
          "output_type": "stream",
          "name": "stdout",
          "text": [
            "Collecting rapidfuzz\n",
            "  Downloading rapidfuzz-3.12.2-cp311-cp311-manylinux_2_17_x86_64.manylinux2014_x86_64.whl.metadata (12 kB)\n",
            "Downloading rapidfuzz-3.12.2-cp311-cp311-manylinux_2_17_x86_64.manylinux2014_x86_64.whl (3.1 MB)\n",
            "\u001b[2K   \u001b[90m━━━━━━━━━━━━━━━━━━━━━━━━━━━━━━━━━━━━━━━━\u001b[0m \u001b[32m3.1/3.1 MB\u001b[0m \u001b[31m24.4 MB/s\u001b[0m eta \u001b[36m0:00:00\u001b[0m\n",
            "\u001b[?25hInstalling collected packages: rapidfuzz\n",
            "Successfully installed rapidfuzz-3.12.2\n"
          ]
        }
      ]
    },
    {
      "cell_type": "code",
      "execution_count": 3,
      "metadata": {
        "id": "yWFsLXN3UQJl"
      },
      "outputs": [],
      "source": [
        "from rapidfuzz import process, fuzz"
      ]
    },
    {
      "cell_type": "code",
      "source": [
        "# Custom dataset of 50 product names\n",
        "product_names = [\n",
        "    \"Apple iPhone 15\", \"Samsung Galaxy S23\", \"Google Pixel 8\", \"OnePlus 11\", \"Xiaomi Redmi Note 12\",\n",
        "    \"Sony PlayStation 5\", \"Microsoft Xbox Series X\", \"Nintendo Switch OLED\", \"Apple MacBook Pro 14\",\n",
        "    \"Dell XPS 13\", \"HP Spectre x360\", \"Asus ROG Strix G16\", \"Lenovo ThinkPad X1 Carbon\", \"Acer Predator Helios 300\",\n",
        "    \"Bose QuietComfort 45\", \"Sony WH-1000XM5\", \"Apple AirPods Pro\", \"Samsung Galaxy Buds 2\", \"JBL Flip 6\",\n",
        "    \"Amazon Echo Dot 5th Gen\", \"Google Nest Hub\", \"Roku Streaming Stick 4K\", \"Nvidia RTX 4090\", \"AMD Ryzen 9 7950X\",\n",
        "    \"Intel Core i9-13900K\", \"Samsung 980 Pro SSD\", \"Crucial DDR5 RAM\", \"Logitech MX Master 3\", \"Razer DeathAdder V3\",\n",
        "    \"Corsair K95 RGB Keyboard\", \"HyperX Cloud Alpha\", \"SteelSeries Arctis Pro\", \"Oculus Quest 3\",\n",
        "    \"Fitbit Charge 5\", \"Apple Watch Ultra\", \"Garmin Fenix 7\", \"Samsung Galaxy Watch 5\",\n",
        "    \"GoPro Hero 11\", \"DJI Mini 3 Pro\", \"Canon EOS R6\", \"Sony A7 IV\", \"Fujifilm X-T5\",\n",
        "    \"LG C3 OLED TV\", \"Samsung QN90B QLED TV\", \"Sony Bravia XR A80K\", \"TCL 6-Series Roku TV\",\n",
        "    \"Philips Hue Smart Lights\", \"TP-Link WiFi 6 Router\", \"Eufy Smart Lock\", \"Ring Video Doorbell 4\"\n",
        "]"
      ],
      "metadata": {
        "id": "7B7WD-anU5lS"
      },
      "execution_count": 4,
      "outputs": []
    },
    {
      "cell_type": "code",
      "source": [
        "# Function to perform fuzzy search\n",
        "def fuzzy_product_search(query, products, top_n=5):\n",
        "    matches = process.extract(query, products, scorer=fuzz.ratio, limit=top_n) # .extract() returns a list of tuples. with each tuple of ( Name, Score, Index ) attributes\n",
        "                                                                                                   # and index is it's index value in top_n\n",
        "    return matches"
      ],
      "metadata": {
        "id": "KmkaVKAyU9g0"
      },
      "execution_count": 5,
      "outputs": []
    },
    {
      "cell_type": "code",
      "source": [
        "# User input for search query\n",
        "user_query = input(\"Enter product name: \")\n",
        "\n",
        "# Perform fuzzy search\n",
        "results = fuzzy_product_search(user_query, product_names)\n",
        "\n",
        "# Display results\n",
        "print(\"\\n🔍 Top Matches:\")\n",
        "for name, score, _ in results:\n",
        "    print(f\"✅ {name} (Similarity: {score}%)\")"
      ],
      "metadata": {
        "colab": {
          "base_uri": "https://localhost:8080/"
        },
        "id": "ceR4xzcEVAmo",
        "outputId": "eb8087d0-b92a-419b-ea35-5cb82503d35e"
      },
      "execution_count": 6,
      "outputs": [
        {
          "output_type": "stream",
          "name": "stdout",
          "text": [
            "Enter product name: Smart\n",
            "\n",
            "🔍 Top Matches:\n",
            "✅ Eufy Smart Lock (Similarity: 50.0%)\n",
            "✅ Philips Hue Smart Lights (Similarity: 34.48275862068966%)\n",
            "✅ Samsung Galaxy Watch 5 (Similarity: 29.629629629629626%)\n",
            "✅ Samsung Galaxy S23 (Similarity: 26.086956521739136%)\n",
            "✅ Sony PlayStation 5 (Similarity: 26.086956521739136%)\n"
          ]
        }
      ]
    },
    {
      "cell_type": "markdown",
      "source": [
        "# How fuzz.ratio (Similarity) Works\n",
        "Levenshtein Distance counts the minimum number of single-character edits (insertions, deletions, or substitutions) needed to transform one string into another."
      ],
      "metadata": {
        "id": "7RyJUfSQZl4d"
      }
    },
    {
      "cell_type": "markdown",
      "source": [
        "------------------------------------------------------------------------"
      ],
      "metadata": {
        "id": "3EFTGeNYW7P-"
      }
    },
    {
      "cell_type": "markdown",
      "source": [
        "## Enhanced Using the Fuzzy Ratio Scores ie..,\n",
        "\n",
        "The fuzzy ratio scores measure text similarity using different techniques:\n",
        "\n",
        "1.   Ratio – Direct character-level similarity between query and product.\n",
        "2.   Partial Ratio – Matches substrings when input is incomplete or extra words exist.\n",
        "3.   Token Sort Ratio – Compares words after sorting to ignore word order differences.\n",
        "4.   Token Set Ratio – Handles duplicate/missing words by comparing unique word sets.\n",
        "\n",
        "\n",
        "These scores help rank results based on relevance in fuzzy searching. 🚀\n"
      ],
      "metadata": {
        "id": "PBAQPIPTVbjv"
      }
    },
    {
      "cell_type": "code",
      "source": [
        "# Function to compute all fuzzy factors for each product\n",
        "def compute_fuzzy_scores(query, product):\n",
        "    query = query.lower().strip()\n",
        "    product = product.lower().strip()\n",
        "\n",
        "    score1 = fuzz.ratio(query, product)\n",
        "    score2 = fuzz.partial_ratio(query, product)\n",
        "    score3 = fuzz.token_sort_ratio(query, product)\n",
        "    score4 = fuzz.token_set_ratio(query, product)\n",
        "\n",
        "    # Weighted score combination\n",
        "    weighted_score = (0.4 * score1) + (0.2 * score2) + (0.2 * score3) + (0.2 * score4)\n",
        "    return score1, score2, score3, score4, weighted_score\n"
      ],
      "metadata": {
        "id": "xhNBJRhKWPfX"
      },
      "execution_count": 10,
      "outputs": []
    },
    {
      "cell_type": "code",
      "source": [
        "# Function to perform fuzzy search with detailed output\n",
        "def fuzzy_product_search(query, products, top_n=5, initial_threshold=60):\n",
        "    query = query.lower().strip()  # Normalize user input\n",
        "    threshold = initial_threshold\n",
        "\n",
        "# Implementation of DYNAMIC THRESHOLDING: starts with 30 as threshold if no match found reduces threshold byb 10 gradually in the last lint on this loop\n",
        "\n",
        "    while threshold >= 30: # loop ensures that the search continues as long as the threshold is above 30%.\n",
        "        scored_results = [\n",
        "            (product, *compute_fuzzy_scores(query, product)) for product in products\n",
        "        ]\n",
        "\n",
        "        # Filter matches above threshold and sort by final weighted score\n",
        "        filtered_results = sorted(\n",
        "            [res for res in scored_results if res[-1] >= threshold],\n",
        "            key=lambda x: x[-1],\n",
        "            reverse=True\n",
        "        )\n",
        "\n",
        "        if filtered_results:  # If results found, return them\n",
        "            return filtered_results[:top_n]\n",
        "        threshold -= 10  # Reduce threshold dynamically\n",
        "\n",
        "    return []"
      ],
      "metadata": {
        "id": "L2JlvHm9bC6d"
      },
      "execution_count": 11,
      "outputs": []
    },
    {
      "cell_type": "code",
      "source": [
        "# User input for search query\n",
        "user_query = input(\"Enter product name: \").strip()\n",
        "\n",
        "# Perform fuzzy search\n",
        "results = fuzzy_product_search(user_query, product_names)\n",
        "\n",
        "# Display results\n",
        "print(\"\\n🔍 **Top Matches with Detailed Fuzzy Scores:**\")\n",
        "if results:\n",
        "    print(f\"{'Product Name':<35} | {'Ratio':<6} | {'Partial':<8} | {'Sort':<6} | {'Set':<6} | {'Final Score':<6}\")\n",
        "    print(\"-\" * 90)\n",
        "\n",
        "    for name, ratio, partial, sort, set_score, final in results:\n",
        "        print(f\"{name:<35} | {ratio:<6.1f} | {partial:<8.1f} | {sort:<6.1f} | {set_score:<6.1f} | {final:<6.1f}\")\n",
        "else:\n",
        "    print(\"❌ No relevant matches found!\")\n"
      ],
      "metadata": {
        "colab": {
          "base_uri": "https://localhost:8080/"
        },
        "id": "LAc5cmhNbGda",
        "outputId": "ce274435-b87f-4d2e-b8a5-0aa0cc43df5d"
      },
      "execution_count": 12,
      "outputs": [
        {
          "output_type": "stream",
          "name": "stdout",
          "text": [
            "Enter product name: samsung\n",
            "\n",
            "🔍 **Top Matches with Detailed Fuzzy Scores:**\n",
            "Product Name                        | Ratio  | Partial  | Sort   | Set    | Final Score\n",
            "------------------------------------------------------------------------------------------\n",
            "Samsung Galaxy S23                  | 56.0   | 100.0    | 56.0   | 100.0  | 73.6  \n",
            "Samsung 980 Pro SSD                 | 53.8   | 100.0    | 53.8   | 100.0  | 72.3  \n",
            "Samsung Galaxy Buds 2               | 50.0   | 100.0    | 50.0   | 100.0  | 70.0  \n",
            "Samsung QN90B QLED TV               | 50.0   | 100.0    | 50.0   | 100.0  | 70.0  \n",
            "Samsung Galaxy Watch 5              | 48.3   | 100.0    | 48.3   | 100.0  | 69.0  \n"
          ]
        }
      ]
    }
  ]
}